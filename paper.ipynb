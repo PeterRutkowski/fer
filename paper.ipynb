{
  "nbformat": 4,
  "nbformat_minor": 0,
  "metadata": {
    "colab": {
      "name": "paper.ipynb",
      "provenance": [],
      "collapsed_sections": [],
      "authorship_tag": "ABX9TyMESkH9cDxjEjY+31ocmPBA",
      "include_colab_link": true
    },
    "kernelspec": {
      "name": "python3",
      "display_name": "Python 3"
    }
  },
  "cells": [
    {
      "cell_type": "markdown",
      "metadata": {
        "id": "view-in-github",
        "colab_type": "text"
      },
      "source": [
        "<a href=\"https://colab.research.google.com/github/PeterRutkowski/fer/blob/master/paper.ipynb\" target=\"_parent\"><img src=\"https://colab.research.google.com/assets/colab-badge.svg\" alt=\"Open In Colab\"/></a>"
      ]
    },
    {
      "cell_type": "code",
      "metadata": {
        "id": "ZWsJDrnOcBq2",
        "colab_type": "code",
        "colab": {}
      },
      "source": [
        "import tensorflow as tf\n",
        "from tensorflow import keras\n",
        "from tensorflow.keras import layers"
      ],
      "execution_count": 1,
      "outputs": []
    },
    {
      "cell_type": "code",
      "metadata": {
        "id": "8f3FDkQtkcJF",
        "colab_type": "code",
        "colab": {}
      },
      "source": [
        "model = keras.Sequential(\n",
        "  [   \n",
        "    layers.Input(shape=(100,100,1,)),\n",
        "\n",
        "    layers.Conv2D(filters=20, kernel_size=(5,5), strides=(1,1), padding='same'),\n",
        "    layers.BatchNormalization(),\n",
        "    layers.Activation('relu'),\n",
        "    layers.MaxPooling2D(pool_size=(2,2), strides=(2,2), padding='same'),\n",
        "\n",
        "    layers.Conv2D(filters=40, kernel_size=(5,5), strides=(1,1), padding='same'),\n",
        "    layers.BatchNormalization(),\n",
        "    layers.Activation('relu'),\n",
        "    layers.MaxPooling2D(pool_size=(2,2), strides=(2,2), padding='same'),\n",
        "    \n",
        "    layers.Conv2D(filters=60, kernel_size=(3,3), strides=(1,1), padding='same'),\n",
        "    layers.BatchNormalization(),\n",
        "    layers.Activation('relu'),\n",
        "    layers.MaxPooling2D(pool_size=(2,2), strides=(2,2), padding='same'),\n",
        "\n",
        "    layers.Conv2D(filters=30, kernel_size=(3,3), strides=(1,1), padding='same'),\n",
        "    layers.BatchNormalization(),\n",
        "    layers.Activation('relu'),\n",
        "  ]\n",
        ")"
      ],
      "execution_count": 14,
      "outputs": []
    },
    {
      "cell_type": "code",
      "metadata": {
        "id": "0fJ3J8c5kc5e",
        "colab_type": "code",
        "colab": {
          "base_uri": "https://localhost:8080/",
          "height": 697
        },
        "outputId": "b04dc49c-1c3b-4cf0-e681-0edf3e920484"
      },
      "source": [
        "model.summary()"
      ],
      "execution_count": 15,
      "outputs": [
        {
          "output_type": "stream",
          "text": [
            "Model: \"sequential_5\"\n",
            "_________________________________________________________________\n",
            "Layer (type)                 Output Shape              Param #   \n",
            "=================================================================\n",
            "conv2d_20 (Conv2D)           (None, 100, 100, 20)      520       \n",
            "_________________________________________________________________\n",
            "batch_normalization_20 (Batc (None, 100, 100, 20)      80        \n",
            "_________________________________________________________________\n",
            "activation_20 (Activation)   (None, 100, 100, 20)      0         \n",
            "_________________________________________________________________\n",
            "max_pooling2d_15 (MaxPooling (None, 50, 50, 20)        0         \n",
            "_________________________________________________________________\n",
            "conv2d_21 (Conv2D)           (None, 50, 50, 40)        20040     \n",
            "_________________________________________________________________\n",
            "batch_normalization_21 (Batc (None, 50, 50, 40)        160       \n",
            "_________________________________________________________________\n",
            "activation_21 (Activation)   (None, 50, 50, 40)        0         \n",
            "_________________________________________________________________\n",
            "max_pooling2d_16 (MaxPooling (None, 25, 25, 40)        0         \n",
            "_________________________________________________________________\n",
            "conv2d_22 (Conv2D)           (None, 25, 25, 60)        21660     \n",
            "_________________________________________________________________\n",
            "batch_normalization_22 (Batc (None, 25, 25, 60)        240       \n",
            "_________________________________________________________________\n",
            "activation_22 (Activation)   (None, 25, 25, 60)        0         \n",
            "_________________________________________________________________\n",
            "max_pooling2d_17 (MaxPooling (None, 13, 13, 60)        0         \n",
            "_________________________________________________________________\n",
            "conv2d_23 (Conv2D)           (None, 13, 13, 30)        16230     \n",
            "_________________________________________________________________\n",
            "batch_normalization_23 (Batc (None, 13, 13, 30)        120       \n",
            "_________________________________________________________________\n",
            "activation_23 (Activation)   (None, 13, 13, 30)        0         \n",
            "_________________________________________________________________\n",
            "max_pooling2d_18 (MaxPooling (None, 7, 7, 30)          0         \n",
            "=================================================================\n",
            "Total params: 59,050\n",
            "Trainable params: 58,750\n",
            "Non-trainable params: 300\n",
            "_________________________________________________________________\n"
          ],
          "name": "stdout"
        }
      ]
    }
  ]
}