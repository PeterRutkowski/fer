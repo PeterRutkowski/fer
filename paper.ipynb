{
  "nbformat": 4,
  "nbformat_minor": 0,
  "metadata": {
    "colab": {
      "name": "paper.ipynb",
      "provenance": [],
      "collapsed_sections": [],
      "authorship_tag": "ABX9TyMqlPqlOqcPvpxKjUyswWT5",
      "include_colab_link": true
    },
    "kernelspec": {
      "name": "python3",
      "display_name": "Python 3"
    }
  },
  "cells": [
    {
      "cell_type": "markdown",
      "metadata": {
        "id": "view-in-github",
        "colab_type": "text"
      },
      "source": [
        "<a href=\"https://colab.research.google.com/github/PeterRutkowski/fer/blob/master/paper.ipynb\" target=\"_parent\"><img src=\"https://colab.research.google.com/assets/colab-badge.svg\" alt=\"Open In Colab\"/></a>"
      ]
    },
    {
      "cell_type": "code",
      "metadata": {
        "id": "ZWsJDrnOcBq2",
        "colab_type": "code",
        "colab": {}
      },
      "source": [
        "import tensorflow as tf\n",
        "from tensorflow import keras\n",
        "from tensorflow.keras import layers"
      ],
      "execution_count": 1,
      "outputs": []
    },
    {
      "cell_type": "code",
      "metadata": {
        "id": "8f3FDkQtkcJF",
        "colab_type": "code",
        "colab": {}
      },
      "source": [
        "model = keras.Sequential(\n",
        "  [   \n",
        "    layers.Input(shape=(100,100,1,)),\n",
        "\n",
        "    layers.ZeroPadding2D(padding=2),\n",
        "    layers.Conv2D(filters=20, kernel_size=(5,5), strides=(1,1)),\n",
        "    layers.BatchNormalization(),\n",
        "    layers.Activation('relu'),\n",
        "    layers.ZeroPadding2D(padding=1),\n",
        "    layers.MaxPooling2D(pool_size=(2,2), strides=(2,2)),\n",
        "\n",
        "    layers.ZeroPadding2D(padding=2),\n",
        "    layers.Conv2D(filters=40, kernel_size=(5,5), strides=(1,1)),\n",
        "    layers.BatchNormalization(),\n",
        "    layers.Activation('relu'),\n",
        "    layers.ZeroPadding2D(padding=1),\n",
        "    layers.MaxPooling2D(pool_size=(2,2), strides=(2,2)),\n",
        "    \n",
        "    layers.ZeroPadding2D(padding=2),\n",
        "    layers.Conv2D(filters=60, kernel_size=(3,3), strides=(1,1)),\n",
        "    layers.BatchNormalization(),\n",
        "    layers.Activation('relu'),\n",
        "    layers.ZeroPadding2D(padding=1),\n",
        "    layers.MaxPooling2D(pool_size=(2,2), strides=(2,2)),\n",
        "\n",
        "    layers.ZeroPadding2D(padding=2),\n",
        "    layers.Conv2D(filters=30, kernel_size=(3,3), strides=(1,1)),\n",
        "    layers.BatchNormalization(),\n",
        "    layers.Activation('relu'),\n",
        "\n",
        "  ]\n",
        ")"
      ],
      "execution_count": 2,
      "outputs": []
    },
    {
      "cell_type": "code",
      "metadata": {
        "id": "0fJ3J8c5kc5e",
        "colab_type": "code",
        "colab": {
          "base_uri": "https://localhost:8080/",
          "height": 901
        },
        "outputId": "28678242-864d-49ca-f4f9-26f44df552db"
      },
      "source": [
        "model.summary()"
      ],
      "execution_count": 3,
      "outputs": [
        {
          "output_type": "stream",
          "text": [
            "Model: \"sequential\"\n",
            "_________________________________________________________________\n",
            "Layer (type)                 Output Shape              Param #   \n",
            "=================================================================\n",
            "zero_padding2d (ZeroPadding2 (None, 104, 104, 1)       0         \n",
            "_________________________________________________________________\n",
            "conv2d (Conv2D)              (None, 100, 100, 20)      520       \n",
            "_________________________________________________________________\n",
            "batch_normalization (BatchNo (None, 100, 100, 20)      80        \n",
            "_________________________________________________________________\n",
            "activation (Activation)      (None, 100, 100, 20)      0         \n",
            "_________________________________________________________________\n",
            "zero_padding2d_1 (ZeroPaddin (None, 102, 102, 20)      0         \n",
            "_________________________________________________________________\n",
            "max_pooling2d (MaxPooling2D) (None, 51, 51, 20)        0         \n",
            "_________________________________________________________________\n",
            "zero_padding2d_2 (ZeroPaddin (None, 55, 55, 20)        0         \n",
            "_________________________________________________________________\n",
            "conv2d_1 (Conv2D)            (None, 51, 51, 40)        20040     \n",
            "_________________________________________________________________\n",
            "batch_normalization_1 (Batch (None, 51, 51, 40)        160       \n",
            "_________________________________________________________________\n",
            "activation_1 (Activation)    (None, 51, 51, 40)        0         \n",
            "_________________________________________________________________\n",
            "zero_padding2d_3 (ZeroPaddin (None, 53, 53, 40)        0         \n",
            "_________________________________________________________________\n",
            "max_pooling2d_1 (MaxPooling2 (None, 26, 26, 40)        0         \n",
            "_________________________________________________________________\n",
            "zero_padding2d_4 (ZeroPaddin (None, 30, 30, 40)        0         \n",
            "_________________________________________________________________\n",
            "conv2d_2 (Conv2D)            (None, 28, 28, 60)        21660     \n",
            "_________________________________________________________________\n",
            "batch_normalization_2 (Batch (None, 28, 28, 60)        240       \n",
            "_________________________________________________________________\n",
            "activation_2 (Activation)    (None, 28, 28, 60)        0         \n",
            "_________________________________________________________________\n",
            "zero_padding2d_5 (ZeroPaddin (None, 30, 30, 60)        0         \n",
            "_________________________________________________________________\n",
            "max_pooling2d_2 (MaxPooling2 (None, 15, 15, 60)        0         \n",
            "_________________________________________________________________\n",
            "zero_padding2d_6 (ZeroPaddin (None, 19, 19, 60)        0         \n",
            "_________________________________________________________________\n",
            "conv2d_3 (Conv2D)            (None, 17, 17, 30)        16230     \n",
            "_________________________________________________________________\n",
            "batch_normalization_3 (Batch (None, 17, 17, 30)        120       \n",
            "_________________________________________________________________\n",
            "activation_3 (Activation)    (None, 17, 17, 30)        0         \n",
            "=================================================================\n",
            "Total params: 59,050\n",
            "Trainable params: 58,750\n",
            "Non-trainable params: 300\n",
            "_________________________________________________________________\n"
          ],
          "name": "stdout"
        }
      ]
    }
  ]
}