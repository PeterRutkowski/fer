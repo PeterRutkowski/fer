{
  "nbformat": 4,
  "nbformat_minor": 0,
  "metadata": {
    "colab": {
      "name": "data_prep.ipynb",
      "provenance": [],
      "collapsed_sections": [],
      "mount_file_id": "1304vxtbvhjr_fy7Q27Kq7GlkaZCImNOS",
      "authorship_tag": "ABX9TyMr7YLKhrP2zMFDcOD6OITM",
      "include_colab_link": true
    },
    "kernelspec": {
      "name": "python3",
      "display_name": "Python 3"
    }
  },
  "cells": [
    {
      "cell_type": "markdown",
      "metadata": {
        "id": "view-in-github",
        "colab_type": "text"
      },
      "source": [
        "<a href=\"https://colab.research.google.com/github/PeterRutkowski/fer/blob/master/data_prep.ipynb\" target=\"_parent\"><img src=\"https://colab.research.google.com/assets/colab-badge.svg\" alt=\"Open In Colab\"/></a>"
      ]
    },
    {
      "cell_type": "code",
      "metadata": {
        "id": "Oa28nuEkeBnK",
        "colab_type": "code",
        "colab": {}
      },
      "source": [
        "import os\n",
        "from PIL import Image\n",
        "import numpy as np\n",
        "import random\n",
        "import cv2\n",
        "from google.colab.patches import cv2_imshow\n",
        "import dlib\n",
        "from imutils.face_utils import FaceAligner"
      ],
      "execution_count": null,
      "outputs": []
    },
    {
      "cell_type": "code",
      "metadata": {
        "id": "dOSsaIv2TEbn",
        "colab_type": "code",
        "colab": {}
      },
      "source": [
        "class DLIB:\n",
        "    def __init__(self):\n",
        "        self.detector = dlib.get_frontal_face_detector()\n",
        "        self.predictor = dlib.shape_predictor('drive/My Drive/project42/shape_predictor_68_face_landmarks.dat')\n",
        "        self.FaceAligner = FaceAligner(self.predictor, desiredFaceWidth=100, desiredLeftEye=(0.22, 0.22))\n",
        "        self.faces = np.empty(0)\n",
        "    def detect(self, img):\n",
        "        faces = []\n",
        "        gray = cv2.cvtColor(img, cv2.COLOR_BGR2GRAY)\n",
        "        rects = self.detector(gray, 2)\n",
        "        for rect in rects:\n",
        "            faces.append(cv2.cvtColor(self.FaceAligner.align(img, gray, rect), cv2.COLOR_BGR2GRAY))\n",
        "        self.faces = np.float16(faces)"
      ],
      "execution_count": null,
      "outputs": []
    },
    {
      "cell_type": "code",
      "metadata": {
        "id": "r9wV1klLVZCy",
        "colab_type": "code",
        "colab": {}
      },
      "source": [
        "DLIB = DLIB()"
      ],
      "execution_count": null,
      "outputs": []
    },
    {
      "cell_type": "code",
      "metadata": {
        "id": "y2d1uUTReamX",
        "colab_type": "code",
        "colab": {
          "base_uri": "https://localhost:8080/",
          "height": 34
        },
        "outputId": "4837a75e-36c0-4903-f1fd-352fa26eee68"
      },
      "source": [
        "# raw frontal images\n",
        "path = 'drive/My Drive/project42/KDEF_and_AKDEF/KDEF/'\n",
        "folders = np.sort(os.listdir(path))\n",
        "\n",
        "x, y = [], []\n",
        "\n",
        "counter = 0\n",
        "for folder in folders:\n",
        "  images = np.sort(os.listdir('{}{}/'.format(path, folder)))\n",
        "  for image in images:\n",
        "    if image[6] == 'S':\n",
        "      x.append(np.asarray(Image.open('{}{}/{}'.format(path, folder, image))))\n",
        "      y.append(image[4:6])\n",
        "\n",
        "x, y = np.asarray(x), np.asarray(y)\n",
        "\n",
        "np.savez_compressed('drive/My Drive/project42/kdef_raw.npz', x=x, y=y)\n",
        "\n",
        "print(x.shape, y.shape)"
      ],
      "execution_count": null,
      "outputs": [
        {
          "output_type": "stream",
          "text": [
            "(981,) (981,)\n"
          ],
          "name": "stdout"
        }
      ]
    },
    {
      "cell_type": "code",
      "metadata": {
        "id": "Z6xAnDFBTLSL",
        "colab_type": "code",
        "colab": {
          "base_uri": "https://localhost:8080/",
          "height": 34
        },
        "outputId": "a3a64f80-f101-47cc-fda4-1d1129efbc3d"
      },
      "source": [
        "# detect faces\n",
        "loaded = np.load('drive/My Drive/project42/kdef_raw.npz', allow_pickle=True)\n",
        "X = loaded['x']\n",
        "Y = loaded['y']\n",
        "\n",
        "detected_faces = []\n",
        "\n",
        "for i in range(len(X)):\n",
        "  DLIB.detect(X[i])\n",
        "  detected_faces.append(DLIB.faces[0])\n",
        "\n",
        "x = np.asarray(detected_faces)\n",
        "\n",
        "np.savez_compressed('drive/My Drive/project42/kdef_detected_faces.npz', x=x, y=Y)\n",
        "\n",
        "print(x.shape, Y.shape)"
      ],
      "execution_count": null,
      "outputs": [
        {
          "output_type": "stream",
          "text": [
            "(981, 100, 100) (981,)\n"
          ],
          "name": "stdout"
        }
      ]
    },
    {
      "cell_type": "code",
      "metadata": {
        "id": "BRRvk8l_-q5X",
        "colab_type": "code",
        "colab": {
          "base_uri": "https://localhost:8080/",
          "height": 71
        },
        "outputId": "a338a70e-5400-491f-afc4-c91954a41f10"
      },
      "source": [
        "# grouping indices of classes\n",
        "loaded = np.load('drive/My Drive/project42/kdef_detected_faces.npz', allow_pickle=True)\n",
        "X = loaded['x']\n",
        "Y = loaded['y']\n",
        "\n",
        "classes = np.unique(Y)\n",
        "classes_dict = {}\n",
        "\n",
        "for i in range(len(Y)):\n",
        "  if Y[i] in classes_dict:\n",
        "    classes_dict[Y[i]][0] += 1\n",
        "    classes_dict[Y[i]][1].append(i)\n",
        "  else:\n",
        "    classes_dict[Y[i]] = [1,[i]]\n",
        "\n",
        "print(classes)\n",
        "print(classes_dict)"
      ],
      "execution_count": null,
      "outputs": [
        {
          "output_type": "stream",
          "text": [
            "['AF' 'AN' 'DI' 'HA' 'NE' 'SA' 'SU']\n",
            "{'AF': [141, [0, 7, 14, 21, 28, 35, 42, 49, 56, 63, 70, 77, 84, 91, 98, 105, 112, 119, 126, 133, 140, 147, 154, 161, 168, 175, 182, 189, 196, 203, 210, 217, 224, 231, 238, 245, 252, 259, 266, 273, 280, 287, 294, 301, 308, 315, 322, 329, 336, 343, 350, 357, 364, 371, 378, 385, 392, 399, 406, 413, 420, 427, 434, 441, 448, 455, 462, 469, 476, 483, 490, 497, 504, 511, 518, 525, 532, 539, 546, 553, 560, 567, 574, 581, 588, 595, 602, 609, 616, 623, 630, 637, 644, 651, 658, 665, 672, 679, 680, 687, 694, 701, 708, 715, 722, 729, 736, 743, 750, 757, 764, 771, 778, 785, 792, 799, 806, 813, 820, 827, 834, 841, 848, 855, 862, 869, 876, 883, 890, 897, 904, 911, 918, 925, 932, 939, 946, 953, 960, 967, 974]], 'AN': [140, [1, 8, 15, 22, 29, 36, 43, 50, 57, 64, 71, 78, 85, 92, 99, 106, 113, 120, 127, 134, 141, 148, 155, 162, 169, 176, 183, 190, 197, 204, 211, 218, 225, 232, 239, 246, 253, 260, 267, 274, 281, 288, 295, 302, 309, 316, 323, 330, 337, 344, 351, 358, 365, 372, 379, 386, 393, 400, 407, 414, 421, 428, 435, 442, 449, 456, 463, 470, 477, 484, 491, 498, 505, 512, 519, 526, 533, 540, 547, 554, 561, 568, 575, 582, 589, 596, 603, 610, 617, 624, 631, 638, 645, 652, 659, 666, 673, 681, 688, 695, 702, 709, 716, 723, 730, 737, 744, 751, 758, 765, 772, 779, 786, 793, 800, 807, 814, 821, 828, 835, 842, 849, 856, 863, 870, 877, 884, 891, 898, 905, 912, 919, 926, 933, 940, 947, 954, 961, 968, 975]], 'DI': [140, [2, 9, 16, 23, 30, 37, 44, 51, 58, 65, 72, 79, 86, 93, 100, 107, 114, 121, 128, 135, 142, 149, 156, 163, 170, 177, 184, 191, 198, 205, 212, 219, 226, 233, 240, 247, 254, 261, 268, 275, 282, 289, 296, 303, 310, 317, 324, 331, 338, 345, 352, 359, 366, 373, 380, 387, 394, 401, 408, 415, 422, 429, 436, 443, 450, 457, 464, 471, 478, 485, 492, 499, 506, 513, 520, 527, 534, 541, 548, 555, 562, 569, 576, 583, 590, 597, 604, 611, 618, 625, 632, 639, 646, 653, 660, 667, 674, 682, 689, 696, 703, 710, 717, 724, 731, 738, 745, 752, 759, 766, 773, 780, 787, 794, 801, 808, 815, 822, 829, 836, 843, 850, 857, 864, 871, 878, 885, 892, 899, 906, 913, 920, 927, 934, 941, 948, 955, 962, 969, 976]], 'HA': [140, [3, 10, 17, 24, 31, 38, 45, 52, 59, 66, 73, 80, 87, 94, 101, 108, 115, 122, 129, 136, 143, 150, 157, 164, 171, 178, 185, 192, 199, 206, 213, 220, 227, 234, 241, 248, 255, 262, 269, 276, 283, 290, 297, 304, 311, 318, 325, 332, 339, 346, 353, 360, 367, 374, 381, 388, 395, 402, 409, 416, 423, 430, 437, 444, 451, 458, 465, 472, 479, 486, 493, 500, 507, 514, 521, 528, 535, 542, 549, 556, 563, 570, 577, 584, 591, 598, 605, 612, 619, 626, 633, 640, 647, 654, 661, 668, 675, 683, 690, 697, 704, 711, 718, 725, 732, 739, 746, 753, 760, 767, 774, 781, 788, 795, 802, 809, 816, 823, 830, 837, 844, 851, 858, 865, 872, 879, 886, 893, 900, 907, 914, 921, 928, 935, 942, 949, 956, 963, 970, 977]], 'NE': [140, [4, 11, 18, 25, 32, 39, 46, 53, 60, 67, 74, 81, 88, 95, 102, 109, 116, 123, 130, 137, 144, 151, 158, 165, 172, 179, 186, 193, 200, 207, 214, 221, 228, 235, 242, 249, 256, 263, 270, 277, 284, 291, 298, 305, 312, 319, 326, 333, 340, 347, 354, 361, 368, 375, 382, 389, 396, 403, 410, 417, 424, 431, 438, 445, 452, 459, 466, 473, 480, 487, 494, 501, 508, 515, 522, 529, 536, 543, 550, 557, 564, 571, 578, 585, 592, 599, 606, 613, 620, 627, 634, 641, 648, 655, 662, 669, 676, 684, 691, 698, 705, 712, 719, 726, 733, 740, 747, 754, 761, 768, 775, 782, 789, 796, 803, 810, 817, 824, 831, 838, 845, 852, 859, 866, 873, 880, 887, 894, 901, 908, 915, 922, 929, 936, 943, 950, 957, 964, 971, 978]], 'SA': [140, [5, 12, 19, 26, 33, 40, 47, 54, 61, 68, 75, 82, 89, 96, 103, 110, 117, 124, 131, 138, 145, 152, 159, 166, 173, 180, 187, 194, 201, 208, 215, 222, 229, 236, 243, 250, 257, 264, 271, 278, 285, 292, 299, 306, 313, 320, 327, 334, 341, 348, 355, 362, 369, 376, 383, 390, 397, 404, 411, 418, 425, 432, 439, 446, 453, 460, 467, 474, 481, 488, 495, 502, 509, 516, 523, 530, 537, 544, 551, 558, 565, 572, 579, 586, 593, 600, 607, 614, 621, 628, 635, 642, 649, 656, 663, 670, 677, 685, 692, 699, 706, 713, 720, 727, 734, 741, 748, 755, 762, 769, 776, 783, 790, 797, 804, 811, 818, 825, 832, 839, 846, 853, 860, 867, 874, 881, 888, 895, 902, 909, 916, 923, 930, 937, 944, 951, 958, 965, 972, 979]], 'SU': [140, [6, 13, 20, 27, 34, 41, 48, 55, 62, 69, 76, 83, 90, 97, 104, 111, 118, 125, 132, 139, 146, 153, 160, 167, 174, 181, 188, 195, 202, 209, 216, 223, 230, 237, 244, 251, 258, 265, 272, 279, 286, 293, 300, 307, 314, 321, 328, 335, 342, 349, 356, 363, 370, 377, 384, 391, 398, 405, 412, 419, 426, 433, 440, 447, 454, 461, 468, 475, 482, 489, 496, 503, 510, 517, 524, 531, 538, 545, 552, 559, 566, 573, 580, 587, 594, 601, 608, 615, 622, 629, 636, 643, 650, 657, 664, 671, 678, 686, 693, 700, 707, 714, 721, 728, 735, 742, 749, 756, 763, 770, 777, 784, 791, 798, 805, 812, 819, 826, 833, 840, 847, 854, 861, 868, 875, 882, 889, 896, 903, 910, 917, 924, 931, 938, 945, 952, 959, 966, 973, 980]]}\n"
          ],
          "name": "stdout"
        }
      ]
    },
    {
      "cell_type": "code",
      "metadata": {
        "id": "EH7j3hIWG2SW",
        "colab_type": "code",
        "colab": {
          "base_uri": "https://localhost:8080/",
          "height": 34
        },
        "outputId": "6c9072b2-f614-41bc-d46f-e9d20349e504"
      },
      "source": [
        "# validation split\n",
        "val_split = 0.3\n",
        "class_quantity = 140\n",
        "val_quantity = int(class_quantity*val_split)\n",
        "\n",
        "x_train, y_train, x_val, y_val = [], [], [], []\n",
        "OHE = {'AF': [1, 0, 0, 0, 0, 0, 0], 'AN': [0, 1, 0, 0, 0, 0, 0],\n",
        "       'DI': [0, 0, 1, 0, 0, 0, 0], 'HA': [0, 0, 0, 1, 0, 0, 0],\n",
        "       'NE': [0, 0, 0, 0, 1, 0, 0], 'SA': [0, 0, 0, 0, 0, 1, 0],\n",
        "       'SU': [0, 0, 0, 0, 0, 0, 1], }\n",
        "\n",
        "for key in classes_dict.keys():\n",
        "  val_ind = random.sample(range(class_quantity), val_quantity)\n",
        "  for i in range(class_quantity):\n",
        "    if i in val_ind:\n",
        "      x_val.append(X[i])\n",
        "      y_val.append(OHE[Y[i]])\n",
        "    else:\n",
        "      x_train.append(X[i])\n",
        "      y_train.append(OHE[Y[i]])\n",
        "\n",
        "x_train=np.asarray(x_train)\n",
        "y_train=np.asarray(y_train)\n",
        "x_val=np.asarray(x_val)\n",
        "y_val=np.asarray(y_val)\n",
        "\n",
        "np.savez_compressed('drive/My Drive/project42/kdef.npz',\n",
        "                    x_train=x_train, y_train=y_train,\n",
        "                    x_val=x_val, y_val=y_val)\n",
        "\n",
        "print(x_train.shape, y_train.shape, x_val.shape, y_val.shape)"
      ],
      "execution_count": null,
      "outputs": [
        {
          "output_type": "stream",
          "text": [
            "(686, 100, 100) (686, 7) (294, 100, 100) (294, 7)\n"
          ],
          "name": "stdout"
        }
      ]
    }
  ]
}