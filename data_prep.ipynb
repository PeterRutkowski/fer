{
  "nbformat": 4,
  "nbformat_minor": 0,
  "metadata": {
    "colab": {
      "name": "data_prep.ipynb",
      "provenance": [],
      "collapsed_sections": [],
      "mount_file_id": "1304vxtbvhjr_fy7Q27Kq7GlkaZCImNOS",
      "authorship_tag": "ABX9TyNCD6ivG8IK9v6maRolJArc",
      "include_colab_link": true
    },
    "kernelspec": {
      "name": "python3",
      "display_name": "Python 3"
    }
  },
  "cells": [
    {
      "cell_type": "markdown",
      "metadata": {
        "id": "view-in-github",
        "colab_type": "text"
      },
      "source": [
        "<a href=\"https://colab.research.google.com/github/PeterRutkowski/fer/blob/master/data_prep.ipynb\" target=\"_parent\"><img src=\"https://colab.research.google.com/assets/colab-badge.svg\" alt=\"Open In Colab\"/></a>"
      ]
    },
    {
      "cell_type": "code",
      "metadata": {
        "id": "Oa28nuEkeBnK",
        "colab_type": "code",
        "colab": {}
      },
      "source": [
        "import os\n",
        "from PIL import Image\n",
        "import numpy as np\n",
        "import random\n",
        "import cv2"
      ],
      "execution_count": 1,
      "outputs": []
    },
    {
      "cell_type": "code",
      "metadata": {
        "id": "KGheJrVvd1uZ",
        "colab_type": "code",
        "colab": {
          "base_uri": "https://localhost:8080/",
          "height": 255
        },
        "outputId": "496c4fb8-3407-4131-e16d-399a162329b6"
      },
      "source": [
        "path = 'drive/My Drive/project42/KDEF_and_AKDEF/KDEF/'\n",
        "folders = np.sort(os.listdir(path))\n",
        "print(folders)"
      ],
      "execution_count": null,
      "outputs": [
        {
          "output_type": "stream",
          "text": [
            "['AF01' 'AF02' 'AF03' 'AF04' 'AF05' 'AF06' 'AF07' 'AF08' 'AF09' 'AF10'\n",
            " 'AF11' 'AF12' 'AF13' 'AF14' 'AF15' 'AF16' 'AF17' 'AF18' 'AF19' 'AF20'\n",
            " 'AF21' 'AF22' 'AF23' 'AF24' 'AF25' 'AF26' 'AF27' 'AF28' 'AF29' 'AF30'\n",
            " 'AF31' 'AF32' 'AF33' 'AF34' 'AF35' 'AM01' 'AM02' 'AM03' 'AM04' 'AM05'\n",
            " 'AM06' 'AM07' 'AM08' 'AM09' 'AM10' 'AM11' 'AM12' 'AM13' 'AM14' 'AM15'\n",
            " 'AM16' 'AM17' 'AM18' 'AM19' 'AM20' 'AM21' 'AM22' 'AM23' 'AM24' 'AM25'\n",
            " 'AM26' 'AM27' 'AM28' 'AM29' 'AM30' 'AM31' 'AM32' 'AM33' 'AM34' 'AM35'\n",
            " 'BF01' 'BF02' 'BF03' 'BF04' 'BF05' 'BF06' 'BF07' 'BF08' 'BF09' 'BF10'\n",
            " 'BF11' 'BF12' 'BF13' 'BF14' 'BF15' 'BF16' 'BF17' 'BF18' 'BF19' 'BF20'\n",
            " 'BF21' 'BF22' 'BF23' 'BF24' 'BF25' 'BF26' 'BF27' 'BF28' 'BF29' 'BF30'\n",
            " 'BF31' 'BF32' 'BF33' 'BF34' 'BF35' 'BM01' 'BM02' 'BM03' 'BM04' 'BM05'\n",
            " 'BM06' 'BM07' 'BM08' 'BM09' 'BM10' 'BM11' 'BM12' 'BM13' 'BM14' 'BM15'\n",
            " 'BM16' 'BM17' 'BM18' 'BM19' 'BM20' 'BM21' 'BM22' 'BM23' 'BM24' 'BM25'\n",
            " 'BM26' 'BM27' 'BM28' 'BM29' 'BM30' 'BM31' 'BM32' 'BM33' 'BM34' 'BM35']\n"
          ],
          "name": "stdout"
        }
      ]
    },
    {
      "cell_type": "code",
      "metadata": {
        "id": "y2d1uUTReamX",
        "colab_type": "code",
        "colab": {}
      },
      "source": [
        "data, labels = [], []\n",
        "\n",
        "counter = 0\n",
        "for folder in folders:\n",
        "  images = np.sort(os.listdir('{}{}/'.format(path, folder)))\n",
        "  frontal_images = []\n",
        "  for image in images:\n",
        "    if image[6] == 'S':\n",
        "      img = np.asarray(Image.open('{}{}/{}'.format(path, folder, image)))\n",
        "      gray = cv2.cvtColor(img, cv2.COLOR_BGR2GRAY)\n",
        "      data.append(gray)\n",
        "      labels.append(image[4:6])\n",
        "\n",
        "data = np.asarray(data)\n",
        "labels = np.asarray(labels)\n",
        "\n",
        "np.savez_compressed('drive/My Drive/project42/KDEF.npz', x=data, y=labels)"
      ],
      "execution_count": null,
      "outputs": []
    },
    {
      "cell_type": "code",
      "metadata": {
        "id": "YzRLGb3DtMNh",
        "colab_type": "code",
        "colab": {}
      },
      "source": [
        "loaded = np.load('drive/My Drive/project42/KDEF.npz', allow_pickle=True)\n",
        "X = loaded['x']\n",
        "Y = loaded['y']"
      ],
      "execution_count": null,
      "outputs": []
    },
    {
      "cell_type": "code",
      "metadata": {
        "id": "Nk6U5NEVt6ze",
        "colab_type": "code",
        "colab": {}
      },
      "source": [
        "import cv2\n",
        "from google.colab.patches import cv2_imshow\n",
        "import numpy as np\n",
        "\n",
        "class FaceDetector:\n",
        "    def __init__(self):\n",
        "        self.__HaarCascade = cv2.CascadeClassifier('drive/My Drive/project42/haarcascade_frontalface_default.xml')\n",
        "        self.faces = np.empty(0)\n",
        "        self.img = np.empty(0)\n",
        "\n",
        "    def print_with_boundaries(self):\n",
        "        assert self.faces.size, 'DetectorAssert: no faces @ print_face_boundaries'\n",
        "        assert self.img.size, 'DetectorAssert : no image @ print_face_boundaries'\n",
        "        img = self.img\n",
        "        for rectangle in self.faces:\n",
        "            x, y, w, h = rectangle\n",
        "            img = cv2.rectangle(self.img, (x, y), (x+w,y+h), (255,0,0), 2)\n",
        "        cv2_imshow(img)\n",
        "\n",
        "\n",
        "    def __grayscale(self):\n",
        "        assert self.img.size, 'DetectorAssert: no image @ __greyscale'\n",
        "        self.img = cv2.cvtColor(self.img, cv2.COLOR_BGR2GRAY)\n",
        "\n",
        "    def detect(self, img=None, scaleFactor=1.2, minNeghbors=4):\n",
        "        if img is not None:\n",
        "            self.img = img\n",
        "\n",
        "        assert self.img.size, 'DetectorAssert : no image @ detect'\n",
        "        detector = self.__HaarCascade\n",
        "        self.faces = detector.detectMultiScale(self.img, scaleFactor, minNeghbors)\n",
        "\n",
        "    def extract_faces(self):\n",
        "        cropped = []\n",
        "        for face in self.faces:\n",
        "            x, y, w, h = face\n",
        "            cropped.append(self.img[y:y+h, x:x+w])\n",
        "        return cropped"
      ],
      "execution_count": null,
      "outputs": []
    },
    {
      "cell_type": "code",
      "metadata": {
        "id": "GbfVAUwrwU4K",
        "colab_type": "code",
        "colab": {}
      },
      "source": [
        "fd = FaceDetector()\n",
        "scaled_faces = []\n",
        "for i in range(len(X)):\n",
        "  fd.detect(X[i])\n",
        "  x,y,w,h,=fd.faces[0]\n",
        "  fd.img = fd.img[y:y+h,x:x+w]\n",
        "  fd.img = cv2.resize(fd.img, (100,100))\n",
        "  scaled_faces.append(fd.img)\n",
        "\n",
        "scaled_faces = np.asarray(scaled_faces)\n",
        "\n",
        "np.savez_compressed('drive/My Drive/project42/KDEF_NN.npz', x=scaled_faces, y=Y)"
      ],
      "execution_count": null,
      "outputs": []
    },
    {
      "cell_type": "code",
      "metadata": {
        "id": "gZUHxxPp-kpT",
        "colab_type": "code",
        "colab": {}
      },
      "source": [
        "loaded = np.load('drive/My Drive/project42/KDEF_NN.npz', allow_pickle=True)\n",
        "X = loaded['x']\n",
        "Y = loaded['y']"
      ],
      "execution_count": 2,
      "outputs": []
    },
    {
      "cell_type": "code",
      "metadata": {
        "id": "BRRvk8l_-q5X",
        "colab_type": "code",
        "colab": {
          "base_uri": "https://localhost:8080/",
          "height": 71
        },
        "outputId": "a26d3a40-c005-4633-f8e8-9c67ee87b9e0"
      },
      "source": [
        "classes = np.unique(Y)\n",
        "print(classes)\n",
        "dict_classes = {}\n",
        "for i in range(len(Y)):\n",
        "  if Y[i] in dict_classes:\n",
        "    dict_classes[Y[i]][0] += 1\n",
        "    dict_classes[Y[i]][1].append(i)\n",
        "  else:\n",
        "    dict_classes[Y[i]] = [1,[i]]\n",
        "\n",
        "print(dict_classes)"
      ],
      "execution_count": 3,
      "outputs": [
        {
          "output_type": "stream",
          "text": [
            "['AF' 'AN' 'DI' 'HA' 'NE' 'SA' 'SU']\n",
            "{'AF': [141, [0, 7, 14, 21, 28, 35, 42, 49, 56, 63, 70, 77, 84, 91, 98, 105, 112, 119, 126, 133, 140, 147, 154, 161, 168, 175, 182, 189, 196, 203, 210, 217, 224, 231, 238, 245, 252, 259, 266, 273, 280, 287, 294, 301, 308, 315, 322, 329, 336, 343, 350, 357, 364, 371, 378, 385, 392, 399, 406, 413, 420, 427, 434, 441, 448, 455, 462, 469, 476, 483, 490, 497, 504, 511, 518, 525, 532, 539, 546, 553, 560, 567, 574, 581, 588, 595, 602, 609, 616, 623, 630, 637, 644, 651, 658, 665, 672, 679, 680, 687, 694, 701, 708, 715, 722, 729, 736, 743, 750, 757, 764, 771, 778, 785, 792, 799, 806, 813, 820, 827, 834, 841, 848, 855, 862, 869, 876, 883, 890, 897, 904, 911, 918, 925, 932, 939, 946, 953, 960, 967, 974]], 'AN': [140, [1, 8, 15, 22, 29, 36, 43, 50, 57, 64, 71, 78, 85, 92, 99, 106, 113, 120, 127, 134, 141, 148, 155, 162, 169, 176, 183, 190, 197, 204, 211, 218, 225, 232, 239, 246, 253, 260, 267, 274, 281, 288, 295, 302, 309, 316, 323, 330, 337, 344, 351, 358, 365, 372, 379, 386, 393, 400, 407, 414, 421, 428, 435, 442, 449, 456, 463, 470, 477, 484, 491, 498, 505, 512, 519, 526, 533, 540, 547, 554, 561, 568, 575, 582, 589, 596, 603, 610, 617, 624, 631, 638, 645, 652, 659, 666, 673, 681, 688, 695, 702, 709, 716, 723, 730, 737, 744, 751, 758, 765, 772, 779, 786, 793, 800, 807, 814, 821, 828, 835, 842, 849, 856, 863, 870, 877, 884, 891, 898, 905, 912, 919, 926, 933, 940, 947, 954, 961, 968, 975]], 'DI': [140, [2, 9, 16, 23, 30, 37, 44, 51, 58, 65, 72, 79, 86, 93, 100, 107, 114, 121, 128, 135, 142, 149, 156, 163, 170, 177, 184, 191, 198, 205, 212, 219, 226, 233, 240, 247, 254, 261, 268, 275, 282, 289, 296, 303, 310, 317, 324, 331, 338, 345, 352, 359, 366, 373, 380, 387, 394, 401, 408, 415, 422, 429, 436, 443, 450, 457, 464, 471, 478, 485, 492, 499, 506, 513, 520, 527, 534, 541, 548, 555, 562, 569, 576, 583, 590, 597, 604, 611, 618, 625, 632, 639, 646, 653, 660, 667, 674, 682, 689, 696, 703, 710, 717, 724, 731, 738, 745, 752, 759, 766, 773, 780, 787, 794, 801, 808, 815, 822, 829, 836, 843, 850, 857, 864, 871, 878, 885, 892, 899, 906, 913, 920, 927, 934, 941, 948, 955, 962, 969, 976]], 'HA': [140, [3, 10, 17, 24, 31, 38, 45, 52, 59, 66, 73, 80, 87, 94, 101, 108, 115, 122, 129, 136, 143, 150, 157, 164, 171, 178, 185, 192, 199, 206, 213, 220, 227, 234, 241, 248, 255, 262, 269, 276, 283, 290, 297, 304, 311, 318, 325, 332, 339, 346, 353, 360, 367, 374, 381, 388, 395, 402, 409, 416, 423, 430, 437, 444, 451, 458, 465, 472, 479, 486, 493, 500, 507, 514, 521, 528, 535, 542, 549, 556, 563, 570, 577, 584, 591, 598, 605, 612, 619, 626, 633, 640, 647, 654, 661, 668, 675, 683, 690, 697, 704, 711, 718, 725, 732, 739, 746, 753, 760, 767, 774, 781, 788, 795, 802, 809, 816, 823, 830, 837, 844, 851, 858, 865, 872, 879, 886, 893, 900, 907, 914, 921, 928, 935, 942, 949, 956, 963, 970, 977]], 'NE': [140, [4, 11, 18, 25, 32, 39, 46, 53, 60, 67, 74, 81, 88, 95, 102, 109, 116, 123, 130, 137, 144, 151, 158, 165, 172, 179, 186, 193, 200, 207, 214, 221, 228, 235, 242, 249, 256, 263, 270, 277, 284, 291, 298, 305, 312, 319, 326, 333, 340, 347, 354, 361, 368, 375, 382, 389, 396, 403, 410, 417, 424, 431, 438, 445, 452, 459, 466, 473, 480, 487, 494, 501, 508, 515, 522, 529, 536, 543, 550, 557, 564, 571, 578, 585, 592, 599, 606, 613, 620, 627, 634, 641, 648, 655, 662, 669, 676, 684, 691, 698, 705, 712, 719, 726, 733, 740, 747, 754, 761, 768, 775, 782, 789, 796, 803, 810, 817, 824, 831, 838, 845, 852, 859, 866, 873, 880, 887, 894, 901, 908, 915, 922, 929, 936, 943, 950, 957, 964, 971, 978]], 'SA': [140, [5, 12, 19, 26, 33, 40, 47, 54, 61, 68, 75, 82, 89, 96, 103, 110, 117, 124, 131, 138, 145, 152, 159, 166, 173, 180, 187, 194, 201, 208, 215, 222, 229, 236, 243, 250, 257, 264, 271, 278, 285, 292, 299, 306, 313, 320, 327, 334, 341, 348, 355, 362, 369, 376, 383, 390, 397, 404, 411, 418, 425, 432, 439, 446, 453, 460, 467, 474, 481, 488, 495, 502, 509, 516, 523, 530, 537, 544, 551, 558, 565, 572, 579, 586, 593, 600, 607, 614, 621, 628, 635, 642, 649, 656, 663, 670, 677, 685, 692, 699, 706, 713, 720, 727, 734, 741, 748, 755, 762, 769, 776, 783, 790, 797, 804, 811, 818, 825, 832, 839, 846, 853, 860, 867, 874, 881, 888, 895, 902, 909, 916, 923, 930, 937, 944, 951, 958, 965, 972, 979]], 'SU': [140, [6, 13, 20, 27, 34, 41, 48, 55, 62, 69, 76, 83, 90, 97, 104, 111, 118, 125, 132, 139, 146, 153, 160, 167, 174, 181, 188, 195, 202, 209, 216, 223, 230, 237, 244, 251, 258, 265, 272, 279, 286, 293, 300, 307, 314, 321, 328, 335, 342, 349, 356, 363, 370, 377, 384, 391, 398, 405, 412, 419, 426, 433, 440, 447, 454, 461, 468, 475, 482, 489, 496, 503, 510, 517, 524, 531, 538, 545, 552, 559, 566, 573, 580, 587, 594, 601, 608, 615, 622, 629, 636, 643, 650, 657, 664, 671, 678, 686, 693, 700, 707, 714, 721, 728, 735, 742, 749, 756, 763, 770, 777, 784, 791, 798, 805, 812, 819, 826, 833, 840, 847, 854, 861, 868, 875, 882, 889, 896, 903, 910, 917, 924, 931, 938, 945, 952, 959, 966, 973, 980]]}\n"
          ],
          "name": "stdout"
        }
      ]
    },
    {
      "cell_type": "code",
      "metadata": {
        "id": "EH7j3hIWG2SW",
        "colab_type": "code",
        "colab": {}
      },
      "source": [
        "import random\n",
        "x_train, y_train, x_val, y_val = [], [], [], []\n",
        "class_quantity = 140\n",
        "val_split = 0.3\n",
        "\n",
        "for el in dict_classes.keys():\n",
        "  val_ind = random.sample(range(class_quantity), int(class_quantity*val_split))\n",
        "  for i in range(class_quantity):\n",
        "    if i in val_ind:\n",
        "      x_val.append(X[i])\n",
        "      y_val.append(Y[i])\n",
        "    else:\n",
        "      x_train.append(X[i])\n",
        "      y_train.append(Y[i])\n",
        "\n",
        "x_train = np.asarray(x_train)\n",
        "y_train = np.asarray(y_train)\n",
        "x_val = np.asarray(x_val)\n",
        "y_val = np.asarray(y_val)"
      ],
      "execution_count": 5,
      "outputs": []
    },
    {
      "cell_type": "code",
      "metadata": {
        "id": "rsPp_6_i_mDz",
        "colab_type": "code",
        "colab": {}
      },
      "source": [
        "np.savez_compressed('drive/My Drive/project42/KDEF_F.npz', x_train=x_train, y_train=y_train, x_val=x_val, y_val=y_val)"
      ],
      "execution_count": 8,
      "outputs": []
    }
  ]
}